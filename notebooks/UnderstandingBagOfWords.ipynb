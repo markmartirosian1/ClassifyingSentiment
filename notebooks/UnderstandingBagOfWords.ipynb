{
 "cells": [
  {
   "cell_type": "markdown",
   "id": "3faabb1a",
   "metadata": {},
   "source": [
    "# Bag-of-Words Representation with CountVectorizer and TfIdfTransformer\n",
    "In this notebook, we will explore the concept of the Bag-of-Words (BoW) representation for text data and its two popular variations:\n",
    "\n",
    "1. Frequency-based representation (using CountVectorizer)\n",
    "2. Term Frequency-Inverse Document Frequency (TF-IDF) representation (using TfIdfTransformer)\n"
   ]
  },
  {
   "cell_type": "markdown",
   "id": "03a691bd",
   "metadata": {},
   "source": [
    "## Introduction\n",
    "\n",
    "Bag-of-Words (BoW) is a simplistic method to represent text data in numerical format suitable for machine learning algorithms. The basic idea is to represent text as a \"bag\" of its words, disregarding grammar and even word order but preserving counts.\n",
    "\n",
    "Let's delve into the details with some examples.\n"
   ]
  },
  {
   "cell_type": "code",
   "execution_count": null,
   "id": "9281365a",
   "metadata": {},
   "outputs": [],
   "source": [
    "# Import necessary libraries\n",
    "from sklearn.feature_extraction.text import CountVectorizer, TfidfTransformer\n",
    "import pandas as pd"
   ]
  },
  {
   "cell_type": "markdown",
   "id": "f368ac98",
   "metadata": {},
   "source": [
    "## 1. Frequency-based Representation (Using CountVectorizer)\n",
    "\n",
    "Let's start with the basic frequency representation using `CountVectorizer`. It converts a collection of text documents to a matrix of token counts.\n",
    "\n",
    "We'll use the following example sentences:\n",
    "\n",
    "1. \"The sky is blue.\"\n",
    "2. \"Sky is clear today.\"\n",
    "3. \"Look at the clear blue sky.\""
   ]
  },
  {
   "cell_type": "code",
   "execution_count": null,
   "id": "de2da1e2",
   "metadata": {},
   "outputs": [
    {
     "data": {
      "text/html": [
       "<div>\n",
       "<style scoped>\n",
       "    .dataframe tbody tr th:only-of-type {\n",
       "        vertical-align: middle;\n",
       "    }\n",
       "\n",
       "    .dataframe tbody tr th {\n",
       "        vertical-align: top;\n",
       "    }\n",
       "\n",
       "    .dataframe thead th {\n",
       "        text-align: right;\n",
       "    }\n",
       "</style>\n",
       "<table border=\"1\" class=\"dataframe\">\n",
       "  <thead>\n",
       "    <tr style=\"text-align: right;\">\n",
       "      <th></th>\n",
       "      <th>at</th>\n",
       "      <th>blue</th>\n",
       "      <th>clear</th>\n",
       "      <th>is</th>\n",
       "      <th>look</th>\n",
       "      <th>sky</th>\n",
       "      <th>the</th>\n",
       "      <th>today</th>\n",
       "    </tr>\n",
       "  </thead>\n",
       "  <tbody>\n",
       "    <tr>\n",
       "      <th>0</th>\n",
       "      <td>0</td>\n",
       "      <td>1</td>\n",
       "      <td>0</td>\n",
       "      <td>1</td>\n",
       "      <td>0</td>\n",
       "      <td>1</td>\n",
       "      <td>1</td>\n",
       "      <td>0</td>\n",
       "    </tr>\n",
       "    <tr>\n",
       "      <th>1</th>\n",
       "      <td>0</td>\n",
       "      <td>0</td>\n",
       "      <td>1</td>\n",
       "      <td>1</td>\n",
       "      <td>0</td>\n",
       "      <td>1</td>\n",
       "      <td>0</td>\n",
       "      <td>1</td>\n",
       "    </tr>\n",
       "    <tr>\n",
       "      <th>2</th>\n",
       "      <td>1</td>\n",
       "      <td>1</td>\n",
       "      <td>1</td>\n",
       "      <td>0</td>\n",
       "      <td>1</td>\n",
       "      <td>1</td>\n",
       "      <td>1</td>\n",
       "      <td>0</td>\n",
       "    </tr>\n",
       "  </tbody>\n",
       "</table>\n",
       "</div>"
      ],
      "text/plain": [
       "   at  blue  clear  is  look  sky  the  today\n",
       "0   0     1      0   1     0    1    1      0\n",
       "1   0     0      1   1     0    1    0      1\n",
       "2   1     1      1   0     1    1    1      0"
      ]
     },
     "execution_count": null,
     "metadata": {},
     "output_type": "execute_result"
    }
   ],
   "source": [
    "# Sample sentences\n",
    "sentences = [\"The sky is blue.\", \"Sky is clear today.\", \"Look at the clear blue sky.\"]\n",
    "\n",
    "# Initialize CountVectorizer and fit to our sentences\n",
    "vectorizer = CountVectorizer()\n",
    "X = vectorizer.fit_transform(sentences)\n",
    "\n",
    "# Convert to dataframe for better visualization\n",
    "df = pd.DataFrame(X.toarray(), columns=vectorizer.get_feature_names_out())\n",
    "df"
   ]
  },
  {
   "cell_type": "markdown",
   "id": "2d328c81",
   "metadata": {},
   "source": [
    "The rows in the above table represent our example sentences, and the columns represent unique words from all sentences. The values are the count of words in each sentence.\n",
    "\n",
    "As you can observe, words like \"the\", \"is\", and \"at\" might not provide significant meaning in many contexts and are often termed as \"stop words\". Let's see how to exclude these using `CountVectorizer`."
   ]
  },
  {
   "cell_type": "code",
   "execution_count": null,
   "id": "e89f0c58",
   "metadata": {},
   "outputs": [
    {
     "data": {
      "text/html": [
       "<div>\n",
       "<style scoped>\n",
       "    .dataframe tbody tr th:only-of-type {\n",
       "        vertical-align: middle;\n",
       "    }\n",
       "\n",
       "    .dataframe tbody tr th {\n",
       "        vertical-align: top;\n",
       "    }\n",
       "\n",
       "    .dataframe thead th {\n",
       "        text-align: right;\n",
       "    }\n",
       "</style>\n",
       "<table border=\"1\" class=\"dataframe\">\n",
       "  <thead>\n",
       "    <tr style=\"text-align: right;\">\n",
       "      <th></th>\n",
       "      <th>at</th>\n",
       "      <th>blue</th>\n",
       "      <th>clear</th>\n",
       "      <th>look</th>\n",
       "      <th>sky</th>\n",
       "      <th>today</th>\n",
       "    </tr>\n",
       "  </thead>\n",
       "  <tbody>\n",
       "    <tr>\n",
       "      <th>0</th>\n",
       "      <td>0</td>\n",
       "      <td>1</td>\n",
       "      <td>0</td>\n",
       "      <td>0</td>\n",
       "      <td>1</td>\n",
       "      <td>0</td>\n",
       "    </tr>\n",
       "    <tr>\n",
       "      <th>1</th>\n",
       "      <td>0</td>\n",
       "      <td>0</td>\n",
       "      <td>1</td>\n",
       "      <td>0</td>\n",
       "      <td>1</td>\n",
       "      <td>1</td>\n",
       "    </tr>\n",
       "    <tr>\n",
       "      <th>2</th>\n",
       "      <td>1</td>\n",
       "      <td>1</td>\n",
       "      <td>1</td>\n",
       "      <td>1</td>\n",
       "      <td>1</td>\n",
       "      <td>0</td>\n",
       "    </tr>\n",
       "  </tbody>\n",
       "</table>\n",
       "</div>"
      ],
      "text/plain": [
       "   at  blue  clear  look  sky  today\n",
       "0   0     1      0     0    1      0\n",
       "1   0     0      1     0    1      1\n",
       "2   1     1      1     1    1      0"
      ]
     },
     "execution_count": null,
     "metadata": {},
     "output_type": "execute_result"
    }
   ],
   "source": [
    "# Initialize CountVectorizer with stop words and fit to our sentences\n",
    "vectorizer = CountVectorizer(stop_words=['the', \"is\"])\n",
    "X = vectorizer.fit_transform(sentences)\n",
    "\n",
    "# Convert to dataframe for visualization\n",
    "df = pd.DataFrame(X.toarray(), columns=vectorizer.get_feature_names_out())\n",
    "df"
   ]
  },
  {
   "cell_type": "markdown",
   "id": "e8cb7119",
   "metadata": {},
   "source": [
    "As you can see above, the vectorized table removes the user selected stop-words like 'the' and 'is'. \n",
    "\n",
    "Alternatively, if we would like to use a built-in stop word list for English, we simply set stop_words to {'english'}"
   ]
  },
  {
   "cell_type": "code",
   "execution_count": null,
   "id": "94aa42a7",
   "metadata": {},
   "outputs": [
    {
     "data": {
      "text/html": [
       "<div>\n",
       "<style scoped>\n",
       "    .dataframe tbody tr th:only-of-type {\n",
       "        vertical-align: middle;\n",
       "    }\n",
       "\n",
       "    .dataframe tbody tr th {\n",
       "        vertical-align: top;\n",
       "    }\n",
       "\n",
       "    .dataframe thead th {\n",
       "        text-align: right;\n",
       "    }\n",
       "</style>\n",
       "<table border=\"1\" class=\"dataframe\">\n",
       "  <thead>\n",
       "    <tr style=\"text-align: right;\">\n",
       "      <th></th>\n",
       "      <th>blue</th>\n",
       "      <th>clear</th>\n",
       "      <th>look</th>\n",
       "      <th>sky</th>\n",
       "      <th>today</th>\n",
       "    </tr>\n",
       "  </thead>\n",
       "  <tbody>\n",
       "    <tr>\n",
       "      <th>0</th>\n",
       "      <td>1</td>\n",
       "      <td>0</td>\n",
       "      <td>0</td>\n",
       "      <td>1</td>\n",
       "      <td>0</td>\n",
       "    </tr>\n",
       "    <tr>\n",
       "      <th>1</th>\n",
       "      <td>0</td>\n",
       "      <td>1</td>\n",
       "      <td>0</td>\n",
       "      <td>1</td>\n",
       "      <td>1</td>\n",
       "    </tr>\n",
       "    <tr>\n",
       "      <th>2</th>\n",
       "      <td>1</td>\n",
       "      <td>1</td>\n",
       "      <td>1</td>\n",
       "      <td>1</td>\n",
       "      <td>0</td>\n",
       "    </tr>\n",
       "  </tbody>\n",
       "</table>\n",
       "</div>"
      ],
      "text/plain": [
       "   blue  clear  look  sky  today\n",
       "0     1      0     0    1      0\n",
       "1     0      1     0    1      1\n",
       "2     1      1     1    1      0"
      ]
     },
     "execution_count": null,
     "metadata": {},
     "output_type": "execute_result"
    }
   ],
   "source": [
    "# Initialize CountVectorizer with stop words and fit to our sentences\n",
    "vectorizer = CountVectorizer(stop_words='english')\n",
    "X = vectorizer.fit_transform(sentences)\n",
    "\n",
    "# Convert to dataframe for visualization\n",
    "df = pd.DataFrame(X.toarray(), columns=vectorizer.get_feature_names_out())\n",
    "df"
   ]
  },
  {
   "cell_type": "markdown",
   "id": "02fbde7c",
   "metadata": {},
   "source": [
    "## Unigram vs Bigram with CountVectorizer\n",
    "\n",
    "When dealing with text data, the terms \"unigram\", \"bigram\", \"trigram\", and so on refer to a set of consecutive words or tokens taken as a unit. Specifically:\n",
    "- **Unigram**: Single words. E.g., \"sky\", \"blue\"\n",
    "- **Bigram**: Two contiguous words. E.g., \"sky is\", \"is blue\"\n",
    "- **Trigram**: Three contiguous words. E.g., \"The sky is\"\n",
    "\n",
    "Let's see how `CountVectorizer` can be used to extract unigrams and bigrams from our example sentences.\n"
   ]
  },
  {
   "cell_type": "code",
   "execution_count": null,
   "id": "d28858cf",
   "metadata": {},
   "outputs": [
    {
     "name": "stdout",
     "output_type": "stream",
     "text": [
      "-----------------------\n",
      "Unigram Representation:\n",
      "   blue  clear  look  sky  today\n",
      "0     1      0     0    1      0\n",
      "1     0      1     0    1      1\n",
      "2     1      1     1    1      0\n",
      "-----------------------\n",
      "Bigram Representation:\n",
      "   blue sky  clear blue  clear today  look clear  sky blue  sky clear\n",
      "0         0           0            0           0         1          0\n",
      "1         0           0            1           0         0          1\n",
      "2         1           1            0           1         0          0\n"
     ]
    }
   ],
   "source": [
    "# Unigram representation\n",
    "vectorizer_unigram = CountVectorizer(ngram_range=(1, 1), stop_words='english')\n",
    "X_unigram = vectorizer_unigram.fit_transform(sentences)\n",
    "df_unigram = pd.DataFrame(X_unigram.toarray(), columns=vectorizer_unigram.get_feature_names_out())\n",
    "\n",
    "# Bigram representation\n",
    "vectorizer_bigram = CountVectorizer(ngram_range=(2, 2), stop_words='english')\n",
    "X_bigram = vectorizer_bigram.fit_transform(sentences)\n",
    "df_bigram = pd.DataFrame(X_bigram.toarray(), columns=vectorizer_bigram.get_feature_names_out())\n",
    "\n",
    "print('-----------------------')\n",
    "print('Unigram Representation:')\n",
    "print(df_unigram)\n",
    "\n",
    "print('-----------------------')\n",
    "print('Bigram Representation:')\n",
    "print(df_bigram)"
   ]
  },
  {
   "cell_type": "markdown",
   "id": "8e77f6a6",
   "metadata": {},
   "source": [
    "From the output tables, you can observe:\n",
    "1. The **Unigram** table consists of individual words from the sentences (after excluding stop words).\n",
    "2. The **Bigram** table consists of pairs of contiguous words.\n",
    "\n",
    "While unigrams capture individual word occurrences, bigrams can capture some context, like \"clear blue\" or \"blue sky\". Depending on the task at hand, you might prefer using unigrams, bigrams, or a combination of both."
   ]
  },
  {
   "cell_type": "markdown",
   "id": "c0db1735",
   "metadata": {},
   "source": [
    "## 2. TF-IDF Representation (Using TfIdfTransformer)\n",
    "\n",
    "Term Frequency-Inverse Document Frequency (TF-IDF) is another way to represent text data. It reflects the importance of a term to a document in a corpus. A term has a high TF-IDF score if it occurs frequently in a document, but not in many documents across the corpus.\n",
    "\n",
    "For a more detailed mathematical understanding of TfIdfTransformers, please see [here](https://scikit-learn.org/stable/modules/feature_extraction.html#tfidf-term-weighting)\n",
    "\n",
    "We can calculate TF-IDF representation from our frequency-based representation using `TfIdfTransformer`.\n"
   ]
  },
  {
   "cell_type": "code",
   "execution_count": null,
   "id": "259af0ed",
   "metadata": {},
   "outputs": [
    {
     "data": {
      "text/html": [
       "<div>\n",
       "<style scoped>\n",
       "    .dataframe tbody tr th:only-of-type {\n",
       "        vertical-align: middle;\n",
       "    }\n",
       "\n",
       "    .dataframe tbody tr th {\n",
       "        vertical-align: top;\n",
       "    }\n",
       "\n",
       "    .dataframe thead th {\n",
       "        text-align: right;\n",
       "    }\n",
       "</style>\n",
       "<table border=\"1\" class=\"dataframe\">\n",
       "  <thead>\n",
       "    <tr style=\"text-align: right;\">\n",
       "      <th></th>\n",
       "      <th>blue</th>\n",
       "      <th>clear</th>\n",
       "      <th>look</th>\n",
       "      <th>sky</th>\n",
       "      <th>today</th>\n",
       "    </tr>\n",
       "  </thead>\n",
       "  <tbody>\n",
       "    <tr>\n",
       "      <th>0</th>\n",
       "      <td>0.789807</td>\n",
       "      <td>0.000000</td>\n",
       "      <td>0.000000</td>\n",
       "      <td>0.613356</td>\n",
       "      <td>0.000000</td>\n",
       "    </tr>\n",
       "    <tr>\n",
       "      <th>1</th>\n",
       "      <td>0.000000</td>\n",
       "      <td>0.547832</td>\n",
       "      <td>0.000000</td>\n",
       "      <td>0.425441</td>\n",
       "      <td>0.720333</td>\n",
       "    </tr>\n",
       "    <tr>\n",
       "      <th>2</th>\n",
       "      <td>0.480458</td>\n",
       "      <td>0.480458</td>\n",
       "      <td>0.631745</td>\n",
       "      <td>0.373119</td>\n",
       "      <td>0.000000</td>\n",
       "    </tr>\n",
       "  </tbody>\n",
       "</table>\n",
       "</div>"
      ],
      "text/plain": [
       "       blue     clear      look       sky     today\n",
       "0  0.789807  0.000000  0.000000  0.613356  0.000000\n",
       "1  0.000000  0.547832  0.000000  0.425441  0.720333\n",
       "2  0.480458  0.480458  0.631745  0.373119  0.000000"
      ]
     },
     "execution_count": null,
     "metadata": {},
     "output_type": "execute_result"
    }
   ],
   "source": [
    "# Initialize TfIdfTransformer and fit to our frequency matrix\n",
    "transformer = TfidfTransformer()\n",
    "tfidf_matrix = transformer.fit_transform(X)\n",
    "\n",
    "# Convert to dataframe for visualization\n",
    "df_tfidf = pd.DataFrame(tfidf_matrix.toarray(), columns=vectorizer.get_feature_names_out())\n",
    "df_tfidf"
   ]
  },
  {
   "cell_type": "markdown",
   "id": "10667cd4",
   "metadata": {},
   "source": [
    "From the table above, you can observe the TF-IDF scores. Words with higher scores are considered more important to their respective sentences in the context of the entire corpus.\n",
    "\n",
    "In summary, while BoW gives a simple count representation of text data, TF-IDF gives a weighted representation, potentially providing better insights into the importance of words in your documents.\n"
   ]
  }
 ],
 "metadata": {
  "kernelspec": {
   "display_name": "python3",
   "language": "python",
   "name": "python3"
  }
 },
 "nbformat": 4,
 "nbformat_minor": 5
}
